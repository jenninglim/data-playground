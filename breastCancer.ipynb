{
 "cells": [
  {
   "cell_type": "code",
   "execution_count": 1,
   "metadata": {
    "collapsed": false,
    "scrolled": true
   },
   "outputs": [],
   "source": [
    "import sklearn as sk\n",
    "from sklearn.datasets import load_breast_cancer\n",
    "from sklearn.decomposition import PCA, FactorAnalysis\n",
    "import numpy as np"
   ]
  },
  {
   "cell_type": "code",
   "execution_count": 2,
   "metadata": {
    "collapsed": false
   },
   "outputs": [],
   "source": [
    "ori_data, target = load_breast_cancer(return_X_y=True)"
   ]
  },
  {
   "cell_type": "code",
   "execution_count": 3,
   "metadata": {
    "collapsed": false
   },
   "outputs": [],
   "source": [
    "# Prepare datasets\n",
    "n_training = 300\n",
    "n_test = np.shape(target)[0] - n_training\n",
    "\n",
    "b_train = ori_data[:n_training]\n",
    "b_test = ori_data[n_training:]\n",
    "\n",
    "t_train = target[:n_training]\n",
    "t_test = target[n_training:]"
   ]
  },
  {
   "cell_type": "code",
   "execution_count": 5,
   "metadata": {
    "collapsed": false
   },
   "outputs": [],
   "source": [
    "# Processing\n",
    "import pandas as pd\n",
    "columns = ['feature ' + str(i) for i in range(np.shape(b_train)[1]) ]\n",
    "df = pd.DataFrame(b_train, columns=columns)\n",
    "\n",
    "# PCA\n",
    "pca = PCA(n_components=2)\n",
    "pca_result = pca.fit_transform(df[columns].values)\n",
    "\n",
    "# Factor Analysis\n",
    "factor = FactorAnalysis(n_components=2)\n",
    "factor_result = pca.fit_transform(df[columns].values)"
   ]
  },
  {
   "cell_type": "code",
   "execution_count": 5,
   "metadata": {
    "collapsed": false
   },
   "outputs": [
    {
     "data": {
      "image/png": "[encoded data removed]",
      "text/plain": [
       "<Figure size 432x288 with 1 Axes>"
      ]
     },
     "metadata": {},
     "output_type": "display_data"
    }
   ],
   "source": [
    "# Visualisation\n",
    "import matplotlib.pyplot as plt\n",
    "plt.scatter(pca_result[:,0], pca_result[:,1], c=t_train)\n",
    "plt.show()"
   ]
  },
  {
   "cell_type": "markdown",
   "metadata": {},
   "source": [
    "# GP Classifier"
   ]
  },
  {
   "cell_type": "code",
   "execution_count": 6,
   "metadata": {
    "collapsed": false
   },
   "outputs": [],
   "source": [
    "from sklearn.gaussian_process import GaussianProcessClassifier as gpc\n",
    "from sklearn.gaussian_process.kernels import RBF"
   ]
  },
  {
   "cell_type": "code",
   "execution_count": 7,
   "metadata": {
    "collapsed": true
   },
   "outputs": [],
   "source": [
    "kernel = 1.0 * RBF([1.0 ,1.0])\n",
    "classifier = gpc(kernel=kernel)"
   ]
  },
  {
   "cell_type": "code",
   "execution_count": 8,
   "metadata": {
    "collapsed": false
   },
   "outputs": [
    {
     "data": {
      "text/plain": [
       "GaussianProcessClassifier(copy_X_train=True,\n",
       "             kernel=1**2 * RBF(length_scale=[1, 1]), max_iter_predict=100,\n",
       "             multi_class='one_vs_rest', n_jobs=1, n_restarts_optimizer=0,\n",
       "             optimizer='fmin_l_bfgs_b', random_state=None,\n",
       "             warm_start=False)"
      ]
     },
     "execution_count": 8,
     "metadata": {},
     "output_type": "execute_result"
    }
   ],
   "source": [
    "pca_res = (np.vstack((pca_result[:,0], pca_result[:,1]))).T\n",
    "classifier.fit(pca_res, t_train)"
   ]
  },
  {
   "cell_type": "code",
   "execution_count": 9,
   "metadata": {
    "collapsed": false
   },
   "outputs": [
    {
     "name": "stdout",
     "output_type": "stream",
     "text": [
      "0.9330855018587361\n"
     ]
    }
   ],
   "source": [
    "# Test Time\n",
    "t_pca = pca.transform(b_test)\n",
    "print(1 - np.sum(np.abs(t_test - classifier.predict(t_pca))) / np.shape(t_test)[0])"
   ]
  },
  {
   "cell_type": "markdown",
   "metadata": {},
   "source": [
    "# Visualisation"
   ]
  },
  {
   "cell_type": "code",
   "execution_count": 28,
   "metadata": {
    "collapsed": false
   },
   "outputs": [],
   "source": [
    "# Create Meshgrid\n",
    "pca_data = pca.transform(ori_data)\n",
    "x_min, x_max = pca_data[:,0].min(), pca_data[:,0].max()\n",
    "y_min, y_max = pca_data[:,1].min(), pca_data[:,1].max()\n",
    "\n",
    "# Heat Map\n",
    "xx, yy = np.meshgrid(np.linspace(x_min, x_max, 10),\n",
    "                     np.linspace(y_min, y_max, 10))\n",
    "\n",
    "z = classifier.predict_proba(np.c_[xx.ravel(), yy.ravel()])[:,1]\n",
    "z = z.reshape((np.shape(xx)[0],np.shape(xx)[1]))"
   ]
  },
  {
   "cell_type": "code",
   "execution_count": 30,
   "metadata": {
    "collapsed": false
   },
   "outputs": [
    {
     "data": {
      "image/png": "[encoded data removed]",
      "text/plain": [
       "<Figure size 432x288 with 1 Axes>"
      ]
     },
     "metadata": {},
     "output_type": "display_data"
    }
   ],
   "source": [
    "plt.imshow(z, interpolation='nearest',\n",
    "           extent=(x_min, x_max, y_min, y_max),\n",
    "           origin='lower',\n",
    "           cmap=plt.cm.PuOr_r)\n",
    "plt.show()"
   ]
  }
 ],
 "metadata": {
  "kernelspec": {
   "display_name": "Python [Root]",
   "language": "python",
   "name": "Python [Root]"
  },
  "language_info": {
   "codemirror_mode": {
    "name": "ipython",
    "version": 3
   },
   "file_extension": ".py",
   "mimetype": "text/x-python",
   "name": "python",
   "nbconvert_exporter": "python",
   "pygments_lexer": "ipython3",
   "version": "3.5.3"
  }
 },
 "nbformat": 4,
 "nbformat_minor": 2
}
